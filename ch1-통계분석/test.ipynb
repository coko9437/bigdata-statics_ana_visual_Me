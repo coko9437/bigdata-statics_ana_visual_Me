{
 "cells": [
  {
   "metadata": {},
   "cell_type": "code",
   "source": [
    "# 필요한 내용 메모및 , 코드 작업 진행하기.\n",
    "# 1) 기술 통계 / 회귀 분석 / 상관 분석을 작업하고,\n",
    "# 2) 히스토그램 , 파이차트, 산점도 , 히트맵 등으로 시각화 해보기.\n",
    "\n",
    "# 와인 품질 등급 예측하기\n",
    "## 와인 속성을 분석해서 품질 등급 예측.\n",
    "\n",
    "### 데이터 수집, 레드와인, 화이트와인, 머신 러닝 저장소 레포지토리 사이트 , 최근에 제가 확인 해보니.\n",
    "### 데이터가 not found , 그래서, 따로 다운로드를 받아서 제공하기.\n",
    "\n",
    "### 탐색 , 정보확인 info() 함수를 이용 예정,\n",
    "\n",
    "### 기술 통계 확인, describe() : 기본 평균, 분산, 편차, 최소,최대등 통계관련 데이터 간단히 요약\n",
    "### unique() : 중복제거, value_counts() : 해당 데이터의 갯수를 집계\n",
    "\n",
    "## 데이터 모델링\n",
    "### 1) 데이터 두 그룹으로 비교 분석,\n",
    "### 2) t-검정, 두 그룹을 비교하는 분석, 라이브러리를 이용할 예정. scipy 패키지의 ttest_ind()\n",
    "### 3) 회귀분석, 라이브러리  statsmodels.formula.api , ols()\n",
    "\n",
    "### 등급 예측\n",
    "### 샘플을 독립변수 (x) -> 회귀분석 모델 적용 -> 종속 변수(y) -> 품질 예측."
   ],
   "outputs": [],
   "execution_count": null
  },
  {
   "cell_type": "markdown",
   "metadata": {},
   "source": [
    "#수업메모 #빅데이터분석_시각화\n",
    " \n",
    "\n",
    "준비물 : vscode , 파이썬(현재 버전 3.12.0 으로 사용중)\n",
    "쥬피터 노트북을 이용해서 코드 실행할 예정. \n",
    "\n",
    "필요시, 파이썬 다운그레이드 -> 3.10.0 , 한글 워드 클라우드 (형태소 분석 라이브러리의 버전 종속성 문제)\n",
    "특정 scikit learn 패키지의 내부 데이터 셋이 변경된 부분이 있어서, 이것도 \n",
    "필요시, 다운그레이드 할 예정. \n",
    "\n",
    "수업은 가급적 타이핑, 라이브 코드 진행함. \n",
    "\n",
    "시각화(기술통계, 분석 조금씩 내포되어 있음. )-------------------------------------------------------------\n",
    "1. 와인에 관련된 , 품질 분석, 히스토그램 - 산점도 시각화\n",
    "2. 타이타닉호에 생존자에 관련된 분석. 히트맵 시각화\n",
    "3. 영어/한글 빈도수에 대해서 분석, 워드 클라우드 시각화\n",
    "4. 우리나라 행정 시,군,구 주소를 -> 위도, 경도로 변환 및 , 블록맵 시각화 등. \n",
    "\n",
    "---------------------------------------------------------\n",
    "분석, \n",
    "1) 회귀분석 \n",
    "2) 선형 휘귀분석\n",
    "파이토치 라이브러리 활용할 예정. \n",
    "3) 지도 학습 \n",
    "4) 비지도 학습 \n",
    "-------------------------------------------------------------------\n",
    "\n",
    "작업할 연습장 폴더 만들기."
   ]
  },
  {
   "metadata": {},
   "cell_type": "code",
   "source": [
    "# 용어정리\n",
    "## 기술 통계 : 데이터 특성을 나타내는 수치를 이용해 분석을 하는 기본적인 통계 방법, 요약통계라고도 함  , 통계값으로 평균, 중앙값, 최빈값 등. 대표적으로 표준편차, 사분위 값,\n",
    "\n",
    "## 회귀 분석 : 독립 변수 x , 종속 변수 y 간의 서로 간의 연관성을 파악하기 위한 분석기법.\n",
    "## 하나의 변수가 다른 변수에 어떤한 영향을 주냐, 인과관계를 분석시 많이 사용함.\n",
    "## 선형 회귀 (직선을 이용한다. )\n",
    "## 수식 => y = b1 + b2x + b3x + .....+ bnx\n",
    "\n",
    "## t-검정 : 데이터에서 찾은 평균으로 두 그룹에 차이가 있는지 확인 하는 방법.\n",
    "## 예) red 와인, white 와인의 1등급, 2등급인지 유무에 따라 가격의 차이가 있는지 확인시 사용.\n",
    "\n"
   ],
   "outputs": [],
   "execution_count": null
  },
  {
   "cell_type": "code",
   "metadata": {},
   "source": [
    "# 데이터 준비, \n",
    "# 파일 정리 간단히 하기. \n",
    "# 초기 데이터 세미콜론으로 구분이 되어 있어서, -> csv 파일로 변경해보기. \n",
    "# 만약, pandas 미설치 이면\n",
    "# 쥬피터 노트북 코드로 설치시\n",
    "# !pip install pandas \n",
    "# cmd 터미널 설치시 -> pip install pandas \n",
    "import pandas as pd \n",
    "# 레드와인을 csv 파일로 읽어서 -> 메모리 이동 -> csv 파일로 변경하기. \n",
    "# header = 0 , csv 파일의 첫번째 행에 열이름 포함.\n",
    "# 데이터 프레임 1행에 컬럼명으로 사용한다.\n",
    "# engine = 'python' , 보통은 C 엔진을 사용하지만, 경우에 따라서,\n",
    "# 또는 파싱의 형태의\n",
    "# 따라서, 파이썬 엔진을 사용하기도 함. \n",
    "red_df = pd.read_csv(\"./winequality-red.csv\",\n",
    "sep=\";\", header = 0, engine = 'python')\n",
    "print(red_df.head()) # head(), 상위의 5개의 샘플 가져오기\n",
    "\n",
    "# csv 파일 형식으로 옮기기 \n",
    "# index=False ,데이터프레임(DF로 표현 중) 행의 레이블을 csv에 쓰지 않음.\n",
    "# DataFrame의 인덱스(행 번호)가 파일에 함께 저장되지 않습니다\n",
    "red_df.to_csv(\"./winequality-red2.csv\",\n",
    "index=False)"
   ],
   "outputs": [],
   "execution_count": null
  },
  {
   "cell_type": "code",
   "metadata": {},
   "source": [
    "# 화이트와인을 csv 파일로 읽어서 -> 메모리 이동 -> csv 파일로 변경하기. \n",
    "white_df = pd.read_csv(\"./winequality-white.csv\",\n",
    "sep=\";\", header = 0, engine = 'python')\n",
    "print(white_df.head())\n",
    "# csv 파일 형식으로 옮기기 \n",
    "# white_df.to_csv(\"C:/BigDataTest/My_Python/1-통계분석/winequality-white2.csv\",\n",
    "# index=False)\n",
    "white_df.to_csv(\"./winequality-white2.csv\",\n",
    "index=False)"
   ],
   "outputs": [],
   "execution_count": null
  },
  {
   "cell_type": "code",
   "metadata": {},
   "source": [
    "# 이미 머신러닝 연구소에 데이터를 관리를 하다보니, 미리 전처리가 되어 있음.\n",
    "# 작업 중에 간혹, 널 값이라든지, 값이 크다든지 이상치, 이런 부분은 나중에 \n",
    "# 파이썬의 함수를 이용해서, 값 변경하는 부분 보여 줄 예정. \n",
    "\n",
    "# 데이터 구조 보기."
   ],
   "outputs": [],
   "execution_count": null
  },
  {
   "cell_type": "markdown",
   "metadata": {},
   "source": [
    "fixed acidity, (고정산)\n",
    "volatile acidity,( 휘발산)\n",
    "citric acid,(구연산)\n",
    "residual sugar,(잔당)\n",
    "chlorides,(염화물)\n",
    "free sulfur dioxide,(유리 이산화황)\n",
    "total sulfur dioxide,(총 이산화황)\n",
    "density,(밀도)\n",
    "pH,\n",
    "sulphates,(황산염)\n",
    "alcohol,(알코올)\n",
    "위에 변수 :\n",
    "독립 변수\n",
    "======================\n",
    "종속변수\n",
    "quality, (품질)\n",
    "=========================\n",
    "데이터 전처리가 다 되어 있고, \n",
    "나열 할 때, \n",
    "독립 변수 순서  다음으로 종속 변수를 마지막에 표기한다. "
   ]
  },
  {
   "cell_type": "code",
   "metadata": {},
   "source": [
    "# 레드 와인, 화이트 와인의 샘플 데이터\n",
    "# head() 상위 5개씩 추출해서 출력해보기. \n",
    "# 레드 와인, \n",
    "red_df.head()\n",
    "\n"
   ],
   "outputs": [],
   "execution_count": null
  },
  {
   "cell_type": "code",
   "metadata": {},
   "source": [
    "# 화이트 와인, \n",
    "white_df.head()"
   ],
   "outputs": [],
   "execution_count": null
  },
  {
   "metadata": {},
   "cell_type": "code",
   "source": [
    "# 데이터 병합하기. \n",
    "# 레드 와인, 화이트 와인 합치기\n",
    "# 레드 와인 csv 파일에 , 컬럼을 추가하기. \n",
    "# type 이라고, red , white 인지 분류를 위해서. \n",
    "# insert 특정 열 추가. \n",
    "red_df.insert(0, column=\"type\", value=\"red\")\n",
    "red_df.head()\n",
    "# red_df.shape"
   ],
   "outputs": [],
   "execution_count": null
  },
  {
   "metadata": {},
   "cell_type": "code",
   "source": [
    "# 이미 추가해서, 또 실행하면 또 추가하니, 일단 주석. \n",
    "white_df.insert(0, column=\"type\", value=\"white\")\n",
    "white_df.head()\n",
    "# 각 행 열의 구조 \n",
    "white_df.shape"
   ],
   "outputs": [],
   "execution_count": null
  },
  {
   "metadata": {},
   "cell_type": "code",
   "source": [
    "# 레드 , 화이트 와인 타입 열 추가 후 병합(합치기)\n",
    "wine = pd.concat([red_df,white_df])"
   ],
   "outputs": [],
   "execution_count": null
  },
  {
   "metadata": {},
   "cell_type": "code",
   "source": [
    "# 결과 조회 \n",
    "wine.shape"
   ],
   "outputs": [],
   "execution_count": null
  },
  {
   "metadata": {},
   "cell_type": "code",
   "source": "wine.head()",
   "outputs": [],
   "execution_count": null
  },
  {
   "cell_type": "code",
   "metadata": {},
   "source": [
    "# red, white 합친 메모리의 내용을 -> csv 파일로 쓰기. \n",
    "# csv 파일 형식으로 옮기기 \n",
    "wine.to_csv(\"./wine.csv\",\n",
    "index=False)"
   ],
   "outputs": [],
   "execution_count": null
  },
  {
   "cell_type": "code",
   "metadata": {},
   "source": [
    "# 합쳐진 데이터를 가지고 , 기본 통계 분석하기, 파이썬의 라이브러리 활용해보기. \n",
    "# 기본 정보 \n",
    "print(wine.info())"
   ],
   "outputs": [],
   "execution_count": null
  },
  {
   "cell_type": "code",
   "metadata": {},
   "source": [
    "# wine csv 파일의 헤더(컬럼 이름의 공백을 언더바로 교체 작업. )\n",
    "wine.columns = wine.columns.str.replace(\" \", \"_\")"
   ],
   "outputs": [],
   "execution_count": null
  },
  {
   "cell_type": "code",
   "metadata": {},
   "source": [
    "wine.head()"
   ],
   "outputs": [],
   "execution_count": null
  },
  {
   "cell_type": "code",
   "metadata": {},
   "source": [
    "#wine csv 의 간단한 설명\n",
    "wine.describe()"
   ],
   "outputs": [],
   "execution_count": null
  },
  {
   "cell_type": "code",
   "metadata": {},
   "source": [
    "# wine csv의 해당 값의 카운트 \n",
    "wine.quality.value_counts()"
   ],
   "outputs": [],
   "execution_count": null
  },
  {
   "cell_type": "code",
   "metadata": {},
   "source": [
    "# wine 의 품질의 유니크 함수 이용해서unique() , 중복 제거 \n",
    "# sorted 함수 이용해서 정렬. \n",
    "sorted(wine.quality.unique())"
   ],
   "outputs": [],
   "execution_count": null
  },
  {
   "cell_type": "code",
   "metadata": {},
   "source": [
    "# 데이터 모델링 \n",
    "# describe() 함수를 이용해서 그룹 비교해보기. \n",
    "# 레드, 화이트 두 그룹으로 나눠서 비교 해보기. \n",
    "wine.groupby(\"type\")[\"quality\"].describe()\n"
   ],
   "outputs": [],
   "execution_count": null
  },
  {
   "cell_type": "code",
   "metadata": {},
   "source": [
    "# 특정의 통계 값 조회, 예 평균. \n",
    "wine.groupby(\"type\")[\"quality\"].mean()"
   ],
   "outputs": [],
   "execution_count": null
  },
  {
   "cell_type": "code",
   "metadata": {},
   "source": [
    "# 평균, 표준편차, 최소값, 최대값 조회.\n",
    "wine.groupby(\"type\")[\"quality\"].agg([\"mean\",\"std\",\"min\",\"max\"])"
   ],
   "outputs": [],
   "execution_count": null
  },
  {
   "cell_type": "code",
   "metadata": {},
   "source": [
    "# 기술 통계 = 요약 통계, 통계 값들을 가지고, 기본적인 분석\n",
    "# t-검정은 표본의 평균이 모평균 또는\n",
    "# 두 집단 간 평균 차이가 우연에 의한 것인지,\n",
    "# 아니면 통계적으로 유의미한 차이가 있는지를 평가하는 방법입니다.\n",
    "\n",
    "# t-검정, 회귀분석 , -> 파이썬에 제공하는 함수를 이용할 예정. \n",
    "# t-검정 그룹 간의 차이를 확인 할 예정 -> scipy 패키지 이용 예정. \n",
    "# 회귀분석 -> statsmodels 라이브러리 사용할 예정. \n",
    "# pip install statsmodels\n",
    "# OLS(Ordinary Least Squares)는 선형 회귀 분석에서 가장 기본적이고 널리 사용되는 방법으로,\n",
    "# 독립 변수들이 종속 변수에 미치는 영향을 설명하는 선형 모델의 계수를 추정합니다.\n",
    "# 이 방법은 관측치와 모델이 예측한 값 간의 오차(잔차)의 제곱 합을 최소화하는 방식으로 작동합니다.\n",
    "#\n",
    "# 1. OLS의 기본 원리\n",
    "# 목표:\n",
    "# 선형 모델\n",
    "# 선형 회귀 모델:\n",
    "# \"y = β0 + β1*x1 + β2*x2 + ... + βp*xp + ε\"\n",
    "\n",
    "# 잔차 제곱합 (RSS):\n",
    "# \"RSS = Σ(y_i - ŷ_i)^2\"\n",
    "#  가 최소가 되도록 합니다.\n",
    "# 값이 작을 수록 좋다. -> 예측을 정확하게 하는 편이다.\n",
    "\n",
    "from scipy import stats\n",
    "from statsmodels.formula.api import ols,glm \n",
    "\n",
    "red_wine_quality = wine.loc[wine['type'] == \"red\", \"quality\"]\n",
    "print(red_wine_quality.head())\n",
    "# red_wine_quality\n",
    "white_wine_quality = wine.loc[wine['type'] == \"white\", \"quality\"]\n",
    "print(white_wine_quality.head())\n",
    "\n",
    "# t-검정 분석 하기.\n",
    "# equal_var=False: 두 그룹의 분산이 동일하다는 가정을 하지 않습니다.\n",
    "# 이 옵션을 사용하면 Welch의 t-검정(Welch’s t-test)이 수행되며,\n",
    "# 이는 두 그룹의 분산이나 샘플 크기가 다를 때 더 안정적인 결과를 제공합니다\n",
    "stats.ttest_ind(red_wine_quality,white_wine_quality, equal_var= False)\n",
    "\n",
    "# 독립 변수와, 종속 변수의 , 나열\n",
    "Rformula = \"quality ~ fixed_acidity + volatile_acidity + citric_acid + residual_sugar + chlorides + free_sulfur_dioxide + total_sulfur_dioxide + density + pH + sulphates + alcohol\"\n",
    "\n",
    "# 위에서 정의한, 종속 변수(quality), 나머지 변수 독립 변수를 정리 \n",
    "# 회귀 분석 함수 수행. \n",
    "# ols -> OLS(Ordinary Least Squares)\n",
    "regression_result = ols(Rformula, data = wine).fit()\n",
    "\n",
    "# 회귀 분석 요약을 출력. \n",
    "regression_result.summary()\n",
    "\n",
    "\n"
   ],
   "outputs": [],
   "execution_count": null
  },
  {
   "cell_type": "code",
   "metadata": {},
   "source": [
    "# 만든 회귀 분석 모델을 활용해서, 예측 해보기. quality, type 2개의 열을 제외하기. \n",
    "sample1 = wine[wine.columns.difference([\"quality\",\"type\"])]\n",
    "# wine\n",
    "# sample1\n",
    "# sample1.shape\n",
    "sample1_2 = sample1[0:5][:]\n",
    "print(sample1_2.head())\n",
    "# sample1_2\n",
    "sample1_predict = regression_result.predict(sample1_2)\n",
    "# 지도학습, 답이 있는 평가 분석 방법. \n",
    "print(f\"sample1_predict 앞에 만든 회귀분석 모델을 이용해서 quality 예측값 \\n : {sample1_predict}\")\n",
    "print(f\"회귀 분석 하기전에 원래의 quality 값 확인 \\n : {wine[0:5]['quality']}\")\n"
   ],
   "outputs": [],
   "execution_count": null
  },
  {
   "cell_type": "code",
   "metadata": {},
   "source": [
    "# 자료의 있는 값이 아니라. \n",
    "# 임의로 우리가 독립 변수의 값을 설정해서, 모델을 이용해, 품질의 결과값 예측 해보기. \n",
    "# Rformula = \"quality ~ fixed_acidity + volatile_acidity + citric_acid + residual_sugar + chlorides + free_sulfur_dioxide + total_sulfur_dioxide + density + pH + sulphates + alcohol\"\n",
    "\n",
    "# 임의의 data 만들기, 독립 변수에 예시 값 넣어보고, 모델로 예측 다시 해보기. \n",
    "data = {\"fixed_acidity\":[8.2, 8], \"volatile_acidity\":[0.7,0.5],\"citric_acid\" : [0.2,0.3],\n",
    "\"residual_sugar\":[6.0,5.7], \"chlorides\" : [0.045,0.040], \"free_sulfur_dioxide\" : [29.0,30.0], \"total_sulfur_dioxide\":[97.0,98.0],\n",
    "\"density\" : [0.955, 0.92], \"pH\" :[3.12,3.01], \"sulphates\": [0.3,0.25], \"alcohol\":[4.9,3.8] }\n",
    "\n",
    "# 딕션너리 -> pd 이용해서 표로 만들기(DataFrame=DF)\n",
    "sample2 = pd.DataFrame(data, columns=sample1.columns)\n",
    "sample2\n"
   ],
   "outputs": [],
   "execution_count": null
  },
  {
   "cell_type": "code",
   "metadata": {},
   "source": [
    "# 임의의 수치로 만든 data를 회귀모델에 인자값으로 넣어서, 결괏값 예측해보기. \n",
    "sample2_predict = regression_result.predict(sample2)\n",
    "sample2_predict"
   ],
   "outputs": [],
   "execution_count": null
  },
  {
   "cell_type": "code",
   "metadata": {},
   "source": [
    "# 분석 된 데이터를 가지고 , 결과 시각화 \n",
    "# !pip install seaborn\n"
   ],
   "outputs": [],
   "execution_count": null
  },
  {
   "cell_type": "code",
   "metadata": {},
   "source": [
    "# 시각화에 필요한 패키지 임포트 하기. \n",
    "import matplotlib.pyplot as plt \n",
    "import seaborn as sns\n",
    "\n",
    "import matplotlib.font_manager as fm\n",
    "# 폰트 경로 설정\n",
    "# font_path = \"C:/Windows/Fonts/NanumGothic.ttf\"\n",
    "font_path= \"C:/Windows/Fonts/malgun.ttf\"  # '맑은 고딕' 폰트 경로\n",
    "font_prop = fm.FontProperties(fname=font_path)\n",
    "\n",
    "# Matplotlib 기본 폰트 설정\n",
    "plt.rc('font', family=font_prop.get_name())\n",
    "\n",
    "# 음수 기호 깨짐 방지\n",
    "plt.rcParams['axes.unicode_minus'] = False\n",
    "\n",
    "sns.set_style(\"dark\")\n",
    "# red wine 속성 설정.\n",
    "# sns.distplot:\n",
    "# 데이터의 분포(히스토그램)와 함께 커널 밀도 추정(kde)을 시각화하는 함수입니다.\n",
    "# red_wine_quality:\n",
    "# 빨간 와인의 품질 데이터를 담은 배열이나 시리즈입니다.\n",
    "# kde=True:\n",
    "# 히스토그램과 함께 부드러운 밀도 곡선(kde)을 그려, 데이터 분포의 연속적인 형태를 보여줍니다.\n",
    "# color=\"red\":\n",
    "# 그래프의 색상을 빨간색으로 지정하여, red wine 데이터를 시각적으로 구분합니다.\n",
    "# label=\" red wine\":\n",
    "# 범례에 표시할 라벨로, 그래프에서 해당 데이터가 빨간 와인임을 나타냅니다.\n",
    "sns.distplot(red_wine_quality, kde=True, color=\"red\", label =\" red wine\")\n",
    "\n",
    "# white wine 속성 설정. \n",
    "sns.distplot(white_wine_quality, kde=True, label =\" white wine\")\n",
    "\n",
    "plt.title(\"와인 타입에 따른 품질 \" ,fontproperties=font_prop)\n",
    "plt.legend()\n",
    "plt.show()"
   ],
   "outputs": [],
   "execution_count": null
  },
  {
   "cell_type": "code",
   "metadata": {},
   "source": [
    "# 실제로 궁금했던 부분이, 어느 독립요소가, 실제 quality에 종속변수에 영향이 있는지 여부가 궁금했음. \n",
    "# 표에 답은 다 나와있었음 , 상관계수의 값으로 표기가 되었지만, \n",
    "# 시각화를 하는 이유가, 인사이트 결과를 좀더 쉽고 알아보기 편하게 하는게 주 목적. \n",
    "\n",
    "import statsmodels.api as sm \n",
    "# wine 컬럼들에서, 종속변수 quality, 독립변수 중 하나인 fixed_acidity , 빼고 , 나머지를 필터 \n",
    "others = list(set(wine.columns).difference(set([\"quality\",\"fixed_acidity\"])))\n",
    "# quality, fixed_acidity 두개의 상관 계수를 , 서로에게 영향이 있는지 여부이고, \n",
    "# 독립 변수 가 클수록 , 종속 변수 quality 가 ,증가 ?,. 감소? 확인, 수직선(상수, 관계없음. )\n",
    "# 이 코드는 statsmodels 라이브러리의 그래픽 함수 중 하나인 plot_partregress를 사용하여,\n",
    "# 회귀 분석에서 특정 독립 변수의 효과를 부분적으로(다른 변수들의 영향을 제거한 상태에서) 시각화하는 예제입니다.\n",
    "#\n",
    "# \"quality\": 종속 변수(예측하려는 변수)입니다.\n",
    "# \"fixed_acidity\": 관심 있는 독립 변수로, 이 변수와 종속 변수 간의 관계를 살펴봅니다.\n",
    "# others: \"fixed_acidity\" 외에 모델에 포함된 다른 독립 변수들의 이름을 담은 변수(리스트 등)로,\n",
    "# 이 변수들의 영향을 제거한 후 \"fixed_acidity\"가 quality에 미치는 순수한 효과를 보여줍니다.\n",
    "\n",
    "# data=wine: 데이터 소스(DataFrame)로, 와인 데이터셋을 사용합니다.\n",
    "# ret_coords=True: 플롯을 그릴 때 사용한 좌표값들을 반환하도록 하여,\n",
    "# 추후 추가적인 분석이나 커스터마이징에 활용할 수 있게 합니다.\n",
    "# 즉, 이 함수는 \"fixed_acidity\"와 \"quality\" 사이의 관계를 다른 변수들의 효과를 통제한 상태에서 시각적으로 확인할 수 있도록 도와줍니다.\n",
    "sm.graphics.plot_partregress(\"quality\", \"fixed_acidity\", others, data=wine, ret_coords =True)\n",
    "plt.show()\n",
    "fig = plt.figure(figsize=(8,13))\n",
    "sm.graphics.plot_partregress_grid(regression_result, fig = fig)\n",
    "plt.show()\n",
    "\n",
    "# 데이터 분포:\n",
    "# 대부분의 점들이 중앙 부근에 몰려 있으나, x축 양 끝이나 y축 아래쪽 등에 소수의 점들이 분산되어 있습니다.\n",
    "# 이들은 고정 산도나 품질에서 다른 변수로도 설명되지 않는\n",
    "# 특별한 변동을 갖는 ‘이상값’ 혹은 ‘영향력이 큰 점’일 수 있습니다.\n",
    "\n",
    "# 그래프에 보이는 숫자(예: 2781, 904, 4745 등)는\n",
    "# 해당 데이터 포인트의 인덱스나 ID로, 통계적으로 눈에 띄는(잔차가 큰) 관측치를 식별하기 위해 표시됩니다.\n",
    "#\n",
    "# 요약\n",
    "# 이 그래프는 고정 산도(fixed_acidity)와 와인 품질(quality)의 관계가\n",
    "# 다른 독립 변수들로부터 영향을 제거한 상태에서도 약간의 양(+)의 상관관계가 있음을 보여줍니다.\n",
    "# 즉, 고정 산도가 높아지면 품질도 소폭 상승하는 경향이 있다는 의미입니다.\n",
    "# 다만, 데이터 분포가 세로 방향으로 크게 퍼져 있어 실제 품질에 영향을 미치는 다른 요인들도 많음을 짐작할 수 있으며,\n",
    "# 일부 이상치나 영향력 있는 점들이 존재함을 확인할 수 있습니다.\n"
   ],
   "outputs": [],
   "execution_count": null
  },
  {
   "cell_type": "markdown",
   "metadata": {},
   "source": [
    "# 결론, \n",
    "## 데이터 수집 : 데이터가 전처리가 다 되어 있다. \n",
    "## 독립변수 x1, x2, x3, ....., xn, y(종속변수), 이 컬럼의 순서대로 데이터가 전처리가 되어 있음. \n",
    "\n",
    "## 데이터 정리 : cleaning , null, 이상치, 결측치, 등 값의 유무등. \n",
    "\n",
    "## 데이터 분석 : t-검정, 선형회귀(파이썬의 함수를 이용했음. ), 답이 있는 내용을 가지고, 모델을 학습을 하고, 예측.\n",
    "\n",
    "## 데이터 시각화 : 히스토그램, 산점도 등으로 시각화 했음. \n",
    "\n",
    "## 시각화를 통해서 : 얻고 싶은 결과가 뭐냐, 와인의 품질은 알코올의 영향을 많이 받는다, 정량적으로 분석. 도출. \n",
    "\n",
    "### 상관 분석, 기술 통계, 요약 통계 , 가장 기본적인 분석의 뼈대. \n",
    "\n",
    "\n"
   ]
  }
 ],
 "metadata": {
  "kernelspec": {
   "display_name": "Python 3",
   "language": "python",
   "name": "python3"
  },
  "language_info": {
   "codemirror_mode": {
    "name": "ipython",
    "version": 3
   },
   "file_extension": ".py",
   "mimetype": "text/x-python",
   "name": "python",
   "nbconvert_exporter": "python",
   "pygments_lexer": "ipython3",
   "version": "3.12.0"
  }
 },
 "nbformat": 4,
 "nbformat_minor": 2
}
