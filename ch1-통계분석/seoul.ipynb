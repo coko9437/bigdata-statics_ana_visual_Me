{
 "cells": [
  {
   "cell_type": "code",
   "id": "initial_id",
   "metadata": {
    "collapsed": true,
    "ExecuteTime": {
     "end_time": "2025-09-17T06:36:59.179850Z",
     "start_time": "2025-09-17T06:36:56.912688Z"
    }
   },
   "source": [
    "# pip install ucimlrepo\n",
    "from ucimlrepo import fetch_ucirepo\n",
    "\n",
    "# fetch dataset\n",
    "seoul_bike_sharing_demand = fetch_ucirepo(id=560)\n",
    "\n",
    "# data (as pandas dataframes)\n",
    "X = seoul_bike_sharing_demand.data.features\n",
    "y = seoul_bike_sharing_demand.data.targets\n",
    "\n",
    "# metadata\n",
    "print(seoul_bike_sharing_demand.metadata)\n",
    "\n",
    "# variable information\n",
    "print(seoul_bike_sharing_demand.variables)\n",
    "\n"
   ],
   "outputs": [
    {
     "name": "stdout",
     "output_type": "stream",
     "text": [
      "{'uci_id': 560, 'name': 'Seoul Bike Sharing Demand', 'repository_url': 'https://archive.ics.uci.edu/dataset/560/seoul+bike+sharing+demand', 'data_url': 'https://archive.ics.uci.edu/static/public/560/data.csv', 'abstract': 'The dataset contains count of public bicycles rented per hour in the Seoul Bike Sharing System, with corresponding weather data and holiday information', 'area': 'Business', 'tasks': ['Regression'], 'characteristics': ['Multivariate'], 'num_instances': 8760, 'num_features': 13, 'feature_types': ['Integer', 'Real'], 'demographics': [], 'target_col': ['Functioning Day'], 'index_col': None, 'has_missing_values': 'no', 'missing_values_symbol': None, 'year_of_dataset_creation': 2020, 'last_updated': 'Mon Feb 05 2024', 'dataset_doi': '10.24432/C5F62R', 'creators': [], 'intro_paper': None, 'additional_info': {'summary': 'Currently Rental bikes are introduced in many urban cities for the enhancement of mobility comfort. It is important to make the rental bike available and accessible to the public at the right time as it lessens the waiting time. Eventually, providing the city with a stable supply of rental bikes becomes a major concern. The crucial part is the prediction of bike count required at each hour for the stable supply of rental bikes. \\r\\nThe dataset contains weather information (Temperature, Humidity, Windspeed, Visibility, Dewpoint, Solar radiation, Snowfall, Rainfall), the number of bikes rented per hour and date information. ', 'purpose': None, 'funded_by': None, 'instances_represent': None, 'recommended_data_splits': None, 'sensitive_data': None, 'preprocessing_description': None, 'variable_info': 'Date : year-month-day\\r\\nRented Bike count - Count of bikes rented at each hour\\r\\nHour - Hour of he day\\r\\nTemperature-Temperature in Celsius\\r\\nHumidity - %\\r\\nWindspeed - m/s\\r\\nVisibility - 10m\\r\\nDew point temperature - Celsius \\r\\nSolar radiation - MJ/m2\\r\\nRainfall - mm\\r\\nSnowfall - cm\\r\\nSeasons - Winter, Spring, Summer, Autumn\\r\\nHoliday - Holiday/No holiday\\r\\nFunctional Day - NoFunc(Non Functional Hours), Fun(Functional hours)', 'citation': None}}\n",
      "                     name     role         type demographic description  \\\n",
      "0                    Date  Feature         Date        None        None   \n",
      "1       Rented Bike Count  Feature      Integer        None        None   \n",
      "2                    Hour  Feature      Integer        None        None   \n",
      "3             Temperature  Feature   Continuous        None        None   \n",
      "4                Humidity  Feature      Integer        None        None   \n",
      "5              Wind speed  Feature   Continuous        None        None   \n",
      "6              Visibility  Feature      Integer        None        None   \n",
      "7   Dew point temperature  Feature   Continuous        None        None   \n",
      "8         Solar Radiation  Feature   Continuous        None        None   \n",
      "9                Rainfall  Feature      Integer        None        None   \n",
      "10               Snowfall  Feature      Integer        None        None   \n",
      "11                Seasons  Feature  Categorical        None        None   \n",
      "12                Holiday  Feature       Binary        None        None   \n",
      "13        Functioning Day   Target       Binary        None        None   \n",
      "\n",
      "    units missing_values  \n",
      "0    None             no  \n",
      "1    None             no  \n",
      "2    None             no  \n",
      "3       C             no  \n",
      "4       %             no  \n",
      "5     m/s             no  \n",
      "6     10m             no  \n",
      "7       C             no  \n",
      "8   Mj/m2             no  \n",
      "9      mm             no  \n",
      "10     cm             no  \n",
      "11   None             no  \n",
      "12   None             no  \n",
      "13   None             no  \n"
     ]
    }
   ],
   "execution_count": 1
  }
 ],
 "metadata": {
  "kernelspec": {
   "display_name": "Python 3",
   "language": "python",
   "name": "python3"
  },
  "language_info": {
   "codemirror_mode": {
    "name": "ipython",
    "version": 2
   },
   "file_extension": ".py",
   "mimetype": "text/x-python",
   "name": "python",
   "nbconvert_exporter": "python",
   "pygments_lexer": "ipython2",
   "version": "2.7.6"
  }
 },
 "nbformat": 4,
 "nbformat_minor": 5
}
